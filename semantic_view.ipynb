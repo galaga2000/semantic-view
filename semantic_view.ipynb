{
 "cells": [
  {
   "cell_type": "code",
   "execution_count": null,
   "id": "78b49de7-ebfb-431a-9dec-de57e32e800d",
   "metadata": {
    "language": "sql",
    "name": "cell4"
   },
   "outputs": [],
   "source": [
    "use warehouse compute_wh;\n",
    "use database us_real_estate;\n",
    "use schema cybersyn;\n",
    "\n",
    "\n",
    "-- Gross income and house prices\n",
    "SELECT 'cybersyn.irs_origin_destination_migration_timeseries' AS table_name, COUNT(*) AS row_count FROM irs_origin_destination_migration_timeseries\n",
    "UNION ALL\n",
    "SELECT 'cybersyn.fhfa_house_price_timeseries', COUNT(*) FROM cybersyn.fhfa_house_price_timeseries\n",
    "UNION ALL\n",
    "SELECT 'cybersyn.fhfa_house_price_attributes', COUNT(*) FROM cybersyn.fhfa_house_price_attributes\n",
    "UNION ALL\n",
    "SELECT 'cybersyn.geography_relationships', COUNT(*) FROM cybersyn.geography_relationships\n",
    "UNION ALL\n",
    "SELECT 'cybersyn.fhfa_mortgage_performance_timeseries', COUNT(*) FROM cybersyn.fhfa_mortgage_performance_timeseries\n",
    "UNION ALL\n",
    "SELECT 'cybersyn.fhfa_mortgage_performance_attributes', COUNT(*) FROM cybersyn.fhfa_mortgage_performance_attributes\n",
    "UNION ALL\n",
    "SELECT 'cybersyn.irs_individual_income_timeseries', COUNT(*) FROM cybersyn.irs_individual_income_timeseries\n",
    "UNION ALL\n",
    "SELECT 'cybersyn.us_addresses', COUNT(*) FROM cybersyn.us_addresses\n",
    "UNION ALL\n",
    "SELECT 'cybersyn.point_of_interest_index', COUNT(*) FROM cybersyn.point_of_interest_index\n",
    "UNION ALL\n",
    "SELECT 'cybersyn.point_of_interest_addresses_relationships', COUNT(*) FROM cybersyn.point_of_interest_addresses_relationships\n",
    "UNION ALL\n",
    "SELECT 'cybersyn.home_mortgage_disclosure_attributes', COUNT(*) FROM cybersyn.home_mortgage_disclosure_attributes\n",
    "UNION ALL\n",
    "SELECT 'cybersyn.geography_index', COUNT(*) FROM cybersyn.geography_index\n",
    "UNION ALL\n",
    "SELECT 'cybersyn.geography_characteristics', COUNT(*) FROM cybersyn.geography_characteristics;\n",
    "\n",
    "\n",
    "\n",
    "\n",
    "\n"
   ]
  },
  {
   "cell_type": "code",
   "execution_count": null,
   "id": "dee82d4f-ef54-41f2-8338-401014e88109",
   "metadata": {
    "language": "sql",
    "name": "cell5"
   },
   "outputs": [],
   "source": [
    "USE DATABASE real_estate_db;\n",
    "USE SCHEMA real_estate;\n",
    "\n",
    "CREATE OR REPLACE VIEW irs_origin_destination_migration_timeseries AS\n",
    "SELECT * FROM us_real_estate.cybersyn.irs_origin_destination_migration_timeseries;\n",
    "\n",
    "CREATE OR REPLACE VIEW fhfa_house_price_timeseries AS\n",
    "SELECT * FROM us_real_estate.cybersyn.fhfa_house_price_timeseries;\n",
    "\n",
    "CREATE OR REPLACE VIEW fhfa_house_price_attributes AS\n",
    "SELECT * FROM us_real_estate.cybersyn.fhfa_house_price_attributes;\n",
    "\n",
    "CREATE OR REPLACE VIEW geography_relationships AS\n",
    "SELECT * FROM us_real_estate.cybersyn.geography_relationships;\n",
    "\n",
    "CREATE OR REPLACE VIEW fhfa_mortgage_performance_timeseries AS\n",
    "SELECT * FROM us_real_estate.cybersyn.fhfa_mortgage_performance_timeseries;\n",
    "\n",
    "CREATE OR REPLACE VIEW fhfa_mortgage_performance_attributes AS\n",
    "SELECT * FROM us_real_estate.cybersyn.fhfa_mortgage_performance_attributes;\n",
    "\n",
    "CREATE OR REPLACE VIEW irs_individual_income_timeseries AS\n",
    "SELECT * FROM us_real_estate.cybersyn.irs_individual_income_timeseries;\n",
    "\n",
    "CREATE OR REPLACE VIEW us_addresses AS\n",
    "SELECT * FROM us_real_estate.cybersyn.us_addresses;\n",
    "\n",
    "CREATE OR REPLACE VIEW point_of_interest_index AS\n",
    "SELECT * FROM us_real_estate.cybersyn.point_of_interest_index;\n",
    "\n",
    "CREATE OR REPLACE VIEW point_of_interest_addresses_relationships AS\n",
    "SELECT * FROM us_real_estate.cybersyn.point_of_interest_addresses_relationships;\n",
    "\n",
    "CREATE OR REPLACE VIEW home_mortgage_disclosure_attributes AS\n",
    "SELECT * FROM us_real_estate.cybersyn.home_mortgage_disclosure_attributes;\n",
    "\n",
    "CREATE OR REPLACE VIEW geography_index AS\n",
    "SELECT * FROM us_real_estate.cybersyn.geography_index;\n",
    "\n",
    "CREATE OR REPLACE VIEW geography_characteristics AS\n",
    "SELECT * FROM us_real_estate.cybersyn.geography_characteristics;\n"
   ]
  },
  {
   "cell_type": "code",
   "execution_count": null,
   "id": "8d441a47-ae77-4d04-a038-1eb20d78fa72",
   "metadata": {
    "language": "sql",
    "name": "cell7"
   },
   "outputs": [],
   "source": [
    "use warehouse compute_wh;\n",
    "USE DATABASE real_estate_db;\n",
    "USE SCHEMA real_estate;\n",
    "\n",
    "\n",
    "-- Gross income and house prices\n",
    "SELECT 'irs_origin_destination_migration_timeseries' AS table_name, COUNT(*) AS row_count FROM irs_origin_destination_migration_timeseries\n",
    "UNION ALL\n",
    "SELECT 'fhfa_house_price_timeseries', COUNT(*) FROM fhfa_house_price_timeseries\n",
    "UNION ALL\n",
    "SELECT 'fhfa_house_price_attributes', COUNT(*) FROM fhfa_house_price_attributes\n",
    "UNION ALL\n",
    "SELECT 'geography_relationships', COUNT(*) FROM geography_relationships\n",
    "UNION ALL\n",
    "SELECT 'fhfa_mortgage_performance_timeseries', COUNT(*) FROM fhfa_mortgage_performance_timeseries\n",
    "UNION ALL\n",
    "SELECT 'fhfa_mortgage_performance_attributes', COUNT(*) FROM fhfa_mortgage_performance_attributes\n",
    "UNION ALL\n",
    "SELECT 'irs_individual_income_timeseries', COUNT(*) FROM irs_individual_income_timeseries\n",
    "UNION ALL\n",
    "SELECT 'us_addresses', COUNT(*) FROM us_addresses\n",
    "UNION ALL\n",
    "SELECT 'point_of_interest_index', COUNT(*) FROM point_of_interest_index\n",
    "UNION ALL\n",
    "SELECT 'point_of_interest_addresses_relationships', COUNT(*) FROM point_of_interest_addresses_relationships\n",
    "UNION ALL\n",
    "SELECT 'home_mortgage_disclosure_attributes', COUNT(*) FROM home_mortgage_disclosure_attributes\n",
    "UNION ALL\n",
    "SELECT 'geography_index', COUNT(*) FROM geography_index\n",
    "UNION ALL\n",
    "SELECT 'geography_characteristics', COUNT(*) FROM geography_characteristics;\n",
    "\n",
    "\n",
    "\n",
    "\n"
   ]
  },
  {
   "cell_type": "code",
   "execution_count": null,
   "id": "8d9c1a29-f752-4915-8586-2b60059ea15f",
   "metadata": {
    "language": "sql",
    "name": "cell6"
   },
   "outputs": [],
   "source": [
    "show views;"
   ]
  },
  {
   "cell_type": "code",
   "execution_count": null,
   "id": "3775908f-ca36-4846-8f38-5adca39217f2",
   "metadata": {
    "language": "python",
    "name": "cell1"
   },
   "outputs": [],
   "source": [
    "# Import python packages\n",
    "import streamlit as st\n",
    "import pandas as pd\n",
    "\n",
    "# We can also use Snowpark for our analyses!\n",
    "from snowflake.snowpark.context import get_active_session\n",
    "session = get_active_session()\n"
   ]
  },
  {
   "cell_type": "code",
   "execution_count": null,
   "id": "8d50cbf4-0c8d-4950-86cb-114990437ac9",
   "metadata": {
    "language": "sql",
    "name": "cell2"
   },
   "outputs": [],
   "source": [
    "-- Welcome to Snowflake Notebooks!\n",
    "-- Try out a SQL cell to generate some data.\n",
    "SELECT 'FRIDAY' as SNOWDAY, 0.2 as CHANCE_OF_SNOW\n",
    "UNION ALL\n",
    "SELECT 'SATURDAY',0.5\n",
    "UNION ALL \n",
    "SELECT 'SUNDAY', 0.9;"
   ]
  },
  {
   "cell_type": "code",
   "execution_count": null,
   "id": "c695373e-ac74-4b62-a1f1-08206cbd5c81",
   "metadata": {
    "language": "python",
    "name": "cell3"
   },
   "outputs": [],
   "source": [
    "# Then, we can use the python name to turn cell2 into a Pandas dataframe\n",
    "my_df = cell2.to_pandas()\n",
    "\n",
    "# Chart the data\n",
    "st.subheader(\"Chance of SNOW ❄️\")\n",
    "st.line_chart(my_df, x='SNOWDAY', y='CHANCE_OF_SNOW')\n",
    "\n",
    "# Give it a go!\n",
    "st.subheader(\"Try it out yourself and show off your skills 🥇\")"
   ]
  }
 ],
 "metadata": {
  "kernelspec": {
   "display_name": "Streamlit Notebook",
   "name": "streamlit"
  },
  "lastEditStatus": {
   "authorEmail": "shaisnowflaketraining53@gmail.com",
   "authorId": "12847487402",
   "authorName": "SHAISNOWFLAKETRAINING53",
   "lastEditTime": 1751248828546,
   "notebookId": "vkh2z6attqoyplbwio3t",
   "sessionId": "68b44b4e-fb07-41f9-b83c-418898b11b74"
  }
 },
 "nbformat": 4,
 "nbformat_minor": 5
}
